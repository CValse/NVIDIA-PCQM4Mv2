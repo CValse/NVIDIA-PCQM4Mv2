{
 "cells": [
  {
   "cell_type": "code",
   "execution_count": 1,
   "id": "0602fada",
   "metadata": {
    "scrolled": true
   },
   "outputs": [],
   "source": [
    "import os\n",
    "os.environ['CUDA_VISIBLE_DEVICES'] = \"\"\n",
    "from tqdm import tqdm\n",
    "import matplotlib.pyplot as plt\n",
    "import pandas as pd\n",
    "import numpy as np\n",
    "import cv2\n",
    "from joblib import Parallel, delayed\n",
    "from glob import glob"
   ]
  },
  {
   "cell_type": "markdown",
   "id": "cdfc561e",
   "metadata": {},
   "source": [
    "# Load the dataset with rdkit"
   ]
  },
  {
   "cell_type": "code",
   "execution_count": null,
   "id": "a6958520",
   "metadata": {},
   "outputs": [],
   "source": [
    "from rdkit import Chem\n",
    "from ogb.lsc import PCQM4Mv2Dataset\n",
    "\n",
    "from rdkit.Chem import rdMolDescriptors, Draw\n",
    "drawOptions = Draw.rdMolDraw2D.MolDrawOptions()\n",
    "drawOptions.prepareMolsBeforeDrawing = False\n",
    "\n",
    "from rdkit.Chem.Draw import IPythonConsole\n",
    "from rdkit import RDLogger\n",
    "RDLogger.DisableLog('rdApp.*') \n",
    "\n",
    "dataset = PCQM4Mv2Dataset(root = '../dataset', only_smiles =True)\n",
    "print(len(dataset))"
   ]
  },
  {
   "cell_type": "markdown",
   "id": "07efd1cb",
   "metadata": {},
   "source": [
    "# Generate the images"
   ]
  },
  {
   "cell_type": "code",
   "execution_count": null,
   "id": "ce992a9f",
   "metadata": {
    "scrolled": true
   },
   "outputs": [],
   "source": [
    "!mkdir ../images\n",
    "\n",
    "def create_image(item, n):\n",
    "    mols = item[0]\n",
    "    tgt = item[1]\n",
    "    fname = f'../images/{n}.png'\n",
    "    try:\n",
    "        mol = Chem.MolFromSmiles(mols)\n",
    "        Draw.MolToFile(mol, fname, size=(384, 384), kekulize=True, wedgeBonds=True)\n",
    "    except:\n",
    "        img = np.zeros((384, 384))\n",
    "        cv2.imwrite(fname, img)\n",
    "\n",
    "    return \n",
    "\n",
    "MOL = Parallel(n_jobs=24)(delayed(create_image)(dataset.__getitem__(n), n) for n in range(len(dataset)))"
   ]
  },
  {
   "cell_type": "markdown",
   "id": "2de75b61",
   "metadata": {},
   "source": [
    "# Check files"
   ]
  },
  {
   "cell_type": "code",
   "execution_count": null,
   "id": "38705c7f",
   "metadata": {},
   "outputs": [],
   "source": [
    "files = glob('../images/*.png')\n",
    "print(len(files))"
   ]
  }
 ],
 "metadata": {
  "kernelspec": {
   "display_name": "Python 3",
   "language": "python",
   "name": "python3"
  },
  "language_info": {
   "codemirror_mode": {
    "name": "ipython",
    "version": 3
   },
   "file_extension": ".py",
   "mimetype": "text/x-python",
   "name": "python",
   "nbconvert_exporter": "python",
   "pygments_lexer": "ipython3",
   "version": "3.7.11"
  }
 },
 "nbformat": 4,
 "nbformat_minor": 5
}
