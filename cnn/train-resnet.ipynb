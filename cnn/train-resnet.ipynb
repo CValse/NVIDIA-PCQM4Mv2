{
 "cells": [
  {
   "cell_type": "code",
   "execution_count": 1,
   "id": "e1fc01b0",
   "metadata": {},
   "outputs": [
    {
     "name": "stdout",
     "output_type": "stream",
     "text": [
      "1.12.1+cu102\n",
      "0.6.11\n"
     ]
    }
   ],
   "source": [
    "import os\n",
    "# Select 2 available GPUs\n",
    "os.environ[\"CUDA_VISIBLE_DEVICES\"]= \"0,1\"\n",
    "\n",
    "import numpy as np\n",
    "import joblib\n",
    "import pandas as pd\n",
    "import cv2\n",
    "from tqdm import tqdm\n",
    "import matplotlib.pyplot as plt\n",
    "import random\n",
    "import gc\n",
    "\n",
    "import torch\n",
    "from torch import nn\n",
    "from torch.nn import functional as F\n",
    "from torch.utils.data import DataLoader, Dataset\n",
    "import timm\n",
    "import albumentations as albu\n",
    "from albumentations.pytorch.transforms import ToTensorV2\n",
    "\n",
    "import ogb\n",
    "from ogb.utils import smiles2graph\n",
    "from ogb.lsc import PCQM4Mv2Dataset\n",
    "\n",
    "def seed_everything(seed=42):\n",
    "    random.seed(seed)\n",
    "    os.environ['PYTHONHASHSEED'] = str(seed)\n",
    "    np.random.seed(seed)\n",
    "    torch.manual_seed(seed)\n",
    "    torch.cuda.manual_seed(seed)\n",
    "    torch.cuda.manual_seed_all(seed)\n",
    "    torch.backends.cudnn.deterministic = True\n",
    "    torch.backends.cudnn.benchmark = False\n",
    "\n",
    "print(torch.__version__)\n",
    "print(timm.__version__)\n",
    "\n",
    "seed_everything()"
   ]
  },
  {
   "cell_type": "code",
   "execution_count": 9,
   "id": "a9d6decd",
   "metadata": {},
   "outputs": [],
   "source": [
    "# Point to competition dataset directory\n",
    "ROOT = '../dataset'\n",
    "dataset = PCQM4Mv2Dataset(root = ROOT, only_smiles =True)\n",
    "\n",
    "# Convert to Dataframe: smiles + target\n",
    "train = pd.DataFrame({\n",
    "    'smiles': [dataset[i][0] for i in range(len(dataset))],\n",
    "    'target': [dataset[i][1] for i in range(len(dataset))]\n",
    "})\n",
    "train.to_parquet('train.parquet')\n",
    "\n",
    "# Get competition splits\n",
    "split_dict = dataset.get_idx_split()\n",
    "train_idx = split_dict['train'] # numpy array storing indices of training molecules\n",
    "valid_idx = split_dict['valid'] # numpy array storing indices of validation molecules\n",
    "testdev_idx = split_dict['test-dev'] # numpy array storing indices of test-dev molecules\n",
    "testchallenge_idx = split_dict['test-challenge'] # numpy array storing indices of test-challenge molecules"
   ]
  },
  {
   "cell_type": "code",
   "execution_count": 12,
   "id": "0855d496",
   "metadata": {
    "scrolled": true
   },
   "outputs": [
    {
     "data": {
      "text/plain": [
       "0    3308311\n",
       "3     147432\n",
       "2     147037\n",
       "1     143840\n",
       "Name: fold, dtype: int64"
      ]
     },
     "execution_count": 12,
     "metadata": {},
     "output_type": "execute_result"
    }
   ],
   "source": [
    "# Set the fold to be trained. Values ranges from 0 to 3\n",
    "FOLD = 0 # 0, 1, 2, 3\n",
    "\n",
    "#Point to development folds split file\n",
    "splits = torch.load('../new_split_dict.pt')\n",
    "\n",
    "# Load smiles dataframe\n",
    "train = pd.read_parquet('train.parquet')\n",
    "\n",
    "train['path'] = '../images/' + train['id'].map(str) + '.png'\n",
    "\n",
    "train['fold'] = 0\n",
    "train.loc[train['id'].isin(splits[f'valid_{FOLD}']), 'fold'] = 1\n",
    "train.loc[train['id'].isin(testdev_idx), 'fold'] = 2\n",
    "train.loc[train['id'].isin(testchallenge_idx), 'fold'] = 3\n",
    "train['fold'].value_counts()"
   ]
  },
  {
   "cell_type": "markdown",
   "id": "7b176d7f",
   "metadata": {},
   "source": [
    "# Augmentations used for train and inference"
   ]
  },
  {
   "cell_type": "code",
   "execution_count": 16,
   "id": "e229a21a",
   "metadata": {},
   "outputs": [],
   "source": [
    "IMG_SIZE = 224\n",
    "def get_augmentations():\n",
    "    \n",
    "    mean = (0.485, 0.456, 0.406)\n",
    "    std = (0.229, 0.224, 0.225) \n",
    "    train_augmentations = albu.Compose([\n",
    "        albu.ShiftScaleRotate (shift_limit=0.10, scale_limit=0.10, rotate_limit=10, interpolation=1, border_mode=4, p=0.75),\n",
    "        albu.RandomResizedCrop(IMG_SIZE, IMG_SIZE, scale=(0.70, 1.00), ratio=(0.95, 1.05), p=1.0),\n",
    "        albu.HorizontalFlip(p=0.5),\n",
    "        albu.VerticalFlip(0.5),\n",
    "        albu.Normalize(always_apply=True),        \n",
    "        ToTensorV2(p=1.0)\n",
    "    ], p=1.0)\n",
    "    \n",
    "    valid_augmentations = albu.Compose([\n",
    "        albu.Resize(IMG_SIZE, IMG_SIZE),\n",
    "        albu.Normalize(always_apply=True),        \n",
    "        ToTensorV2(p=1.0)\n",
    "    ], p=1.0)   \n",
    "    \n",
    "    return train_augmentations, valid_augmentations\n",
    "\n",
    "train_augs, valid_augs = get_augmentations()"
   ]
  },
  {
   "cell_type": "markdown",
   "id": "5bca0c66",
   "metadata": {},
   "source": [
    "# Data Loader"
   ]
  },
  {
   "cell_type": "code",
   "execution_count": 17,
   "id": "f6be7b27",
   "metadata": {},
   "outputs": [],
   "source": [
    "class ImageDataset(Dataset):\n",
    "    def __init__(self, train_mode=0, transforms=None):\n",
    "        self.train = pd.read_parquet('train.parquet')\n",
    "        self.train['path'] = '../images/' + self.train['id'].map(str) + '.png'\n",
    "\n",
    "        # Folds split file\n",
    "        splits = torch.load('../new_split_dict.pt')\n",
    "        self.train['fold'] = 0\n",
    "        self.train.loc[self.train['id'].isin(splits[f'valid_{FOLD}']), 'fold'] = 1\n",
    "        self.train.loc[self.train['id'].isin(testdev_idx), 'fold'] = 2\n",
    "        self.train.loc[self.train['id'].isin(testchallenge_idx), 'fold'] = 3\n",
    "        \n",
    "        self.train = self.train.loc[self.train['fold']==train_mode].reset_index(drop=True).copy()\n",
    "        print(self.train.shape)\n",
    "\n",
    "        self.transforms = transforms\n",
    "        self.train_mode = train_mode\n",
    "    \n",
    "    def __len__(self):\n",
    "        return self.train.shape[0]\n",
    "    \n",
    "    def __getitem__(self, index):\n",
    "        image_path = self.train.iloc[index].path\n",
    "        try:\n",
    "            image = cv2.imread(image_path, cv2.IMREAD_COLOR)\n",
    "            image = cv2.cvtColor(image, cv2.COLOR_BGR2RGB)\n",
    "        except:\n",
    "            image = np.zeros((384, 384, 3), dtype='uint8')\n",
    "        \n",
    "        if (self.transforms):\n",
    "            image = self.transforms(image=image)[\"image\"]\n",
    "            \n",
    "        return {\n",
    "            \"x\": image.float(),\n",
    "            \"y\": torch.tensor(self.train.iloc[index, self.train.columns.str.startswith('target')], dtype=torch.float32)\n",
    "        }"
   ]
  },
  {
   "cell_type": "code",
   "execution_count": 18,
   "id": "0aa15d96",
   "metadata": {},
   "outputs": [
    {
     "name": "stdout",
     "output_type": "stream",
     "text": [
      "(3308311, 5)\n"
     ]
    }
   ],
   "source": [
    "# Check data loader\n",
    "dataset = ImageDataset(train_mode=0, transforms=train_augs)"
   ]
  },
  {
   "cell_type": "code",
   "execution_count": 19,
   "id": "e07701ec",
   "metadata": {},
   "outputs": [
    {
     "data": {
      "text/plain": [
       "(2, torch.Size([3, 224, 224]), torch.Size([1]), tensor([6.1743]))"
      ]
     },
     "execution_count": 19,
     "metadata": {},
     "output_type": "execute_result"
    }
   ],
   "source": [
    "x = dataset[1000]\n",
    "len(x), x['x'].shape, x['y'].shape, x['y']"
   ]
  },
  {
   "cell_type": "code",
   "execution_count": 20,
   "id": "df9173f1",
   "metadata": {},
   "outputs": [
    {
     "name": "stderr",
     "output_type": "stream",
     "text": [
      "Clipping input data to the valid range for imshow with RGB data ([0..1] for floats or [0..255] for integers).\n"
     ]
    },
    {
     "data": {
      "text/plain": [
       "<matplotlib.image.AxesImage at 0x7fd5dfa44a60>"
      ]
     },
     "execution_count": 20,
     "metadata": {},
     "output_type": "execute_result"
    },
    {
     "data": {
      "image/png": "[encoded data removed]",
      "text/plain": [
       "<Figure size 432x288 with 1 Axes>"
      ]
     },
     "metadata": {
      "needs_background": "light"
     },
     "output_type": "display_data"
    }
   ],
   "source": [
    "img = x['x'].cpu().numpy()\n",
    "img = np.moveaxis(img, 0, 2)\n",
    "plt.imshow(img)"
   ]
  },
  {
   "cell_type": "markdown",
   "id": "f323d15f",
   "metadata": {},
   "source": [
    "# Model architecture"
   ]
  },
  {
   "cell_type": "code",
   "execution_count": 22,
   "id": "b261ca88",
   "metadata": {},
   "outputs": [],
   "source": [
    "class Model(torch.nn.Module):\n",
    "    def __init__(self, model_name='resnet34', pretrained=True):\n",
    "        super(Model, self).__init__()\n",
    "        self.cnn = timm.create_model(model_name, pretrained=pretrained)\n",
    "        self.cnn.fc = nn.Linear(512, 1)\n",
    "        self.relu = nn.ReLU()\n",
    "\n",
    "    def forward(self, x):\n",
    "        output = self.relu(self.cnn(x))\n",
    "        return output"
   ]
  },
  {
   "cell_type": "markdown",
   "id": "5bd875d0",
   "metadata": {},
   "source": [
    "# Training step 1:\n",
    "- LR: 4e-4\n",
    "- Image size: 224\n",
    "- epochs: 12\n",
    "- batch size: 1024"
   ]
  },
  {
   "cell_type": "code",
   "execution_count": null,
   "id": "07d58e41",
   "metadata": {
    "scrolled": true
   },
   "outputs": [],
   "source": [
    "!mkdir weights\n",
    "\n",
    "n_epochs = 12\n",
    "batch_size = 1024\n",
    "LR = 4e-4\n",
    "\n",
    "# Load training data loader\n",
    "train_dataset = ImageDataset(train_mode=0, transforms=train_augs)\n",
    "train_loader = torch.utils.data.DataLoader(train_dataset, batch_size=batch_size, shuffle=True, num_workers=8)\n",
    "\n",
    "# Load validation data loader\n",
    "valid_dataset = ImageDataset(train_mode=1, transforms=valid_augs)\n",
    "valid_loader = torch.utils.data.DataLoader(valid_dataset, batch_size=batch_size, shuffle=False, num_workers=8)\n",
    "\n",
    "# Create model\n",
    "model = Model(model_name='resnet34', pretrained=True).to('cuda')\n",
    "# Train using DP, 2x GPUs\n",
    "model = nn.DataParallel(model)\n",
    "\n",
    "# LR optimizer + scheduler\n",
    "optimizer = torch.optim.Adam(model.parameters(), lr=LR)\n",
    "scheduler = torch.optim.lr_scheduler.CosineAnnealingWarmRestarts(\n",
    "    optimizer,\n",
    "    T_0 = len(train_loader),\n",
    "    T_mult = 1,\n",
    "    eta_min = 1e-7,\n",
    "    last_epoch= -1,\n",
    ")\n",
    "\n",
    "# Load validation Labels\n",
    "VALID = train.loc[train.fold==1].reset_index(drop=True)\n",
    "\n",
    "best_mae = 1.\n",
    "scaler = torch.cuda.amp.GradScaler()\n",
    "for epoch in range(n_epochs):\n",
    "    \n",
    "    with tqdm(train_loader) as pbar:\n",
    "        for batch, data in enumerate(pbar):\n",
    "\n",
    "            optimizer.zero_grad()\n",
    "\n",
    "            # Casts operations to mixed precision\n",
    "            with torch.cuda.amp.autocast():\n",
    "                output = model(data['x'].to('cuda'))\n",
    "                loss = criterion(data['y'].to('cuda'), output)\n",
    "\n",
    "            # Scales the loss, and calls backward()\n",
    "            # to create scaled gradients\n",
    "            scaler.scale(loss).backward()\n",
    "\n",
    "            # Unscales gradients and calls\n",
    "            # or skips optimizer.step()\n",
    "            scaler.step(optimizer)\n",
    "\n",
    "            # Updates the scale for next iteration\n",
    "            scaler.update()\n",
    "            \n",
    "            scheduler.step(batch)\n",
    "\n",
    "            loss = loss.detach().cpu().numpy()\n",
    "            lr = optimizer.param_groups[0][\"lr\"]\n",
    "            pbar.set_postfix_str(f\"{lr:.6f} train_loss: {loss:.4f}({best_mae:.4f})\")\n",
    "\n",
    "        # Run Validation loop\n",
    "        YPRED = []\n",
    "        with torch.no_grad():\n",
    "            for data in tqdm(valid_loader):\n",
    "                ypred = model(data['x'].to('cuda'))\n",
    "                YPRED.append(ypred.cpu().numpy())\n",
    "        YPRED = np.concatenate(YPRED)[:,0]\n",
    "        VALID['pred'] = YPRED\n",
    "        mae = (VALID['target'] - VALID['pred']).abs().mean()\n",
    "\n",
    "        # Update best weight only\n",
    "        if mae < best_mae:\n",
    "            best_mae = mae\n",
    "            print(f\"New best: {epoch} {mae}\")\n",
    "            torch.save(model.module.state_dict(), f\"weights/model_resnet34-{FOLD}-{batch_size}-{IMG_SIZE}-v1.pt\")"
   ]
  },
  {
   "cell_type": "markdown",
   "id": "d79855fb",
   "metadata": {},
   "source": [
    "# Training step 2:\n",
    "- LR: 2e-4\n",
    "- Image size: 224\n",
    "- epochs: 12\n",
    "- batch size: 1024"
   ]
  },
  {
   "cell_type": "code",
   "execution_count": null,
   "id": "97ba6d76",
   "metadata": {
    "scrolled": true
   },
   "outputs": [],
   "source": [
    "optimizer = torch.optim.Adam(model.parameters(), lr=LR/2)\n",
    "scheduler = torch.optim.lr_scheduler.CosineAnnealingWarmRestarts(\n",
    "    optimizer,\n",
    "    T_0 = len(train_loader),\n",
    "    T_mult = 1,\n",
    "    eta_min = 1e-7,\n",
    "    last_epoch= -1,\n",
    ")\n",
    "\n",
    "n_epochs = 12\n",
    "for epoch in range(n_epochs):\n",
    "    model.train()\n",
    "    with tqdm(train_loader) as pbar:\n",
    "        for batch, data in enumerate(pbar):\n",
    "\n",
    "            optimizer.zero_grad()\n",
    "\n",
    "            # Casts operations to mixed precision\n",
    "            with torch.cuda.amp.autocast():\n",
    "                output = model(data['x'].to('cuda'))\n",
    "                loss = criterion(data['y'].to('cuda'), output)\n",
    "\n",
    "            # Scales the loss, and calls backward()\n",
    "            # to create scaled gradients\n",
    "            scaler.scale(loss).backward()\n",
    "\n",
    "            # Unscales gradients and calls\n",
    "            # or skips optimizer.step()\n",
    "            scaler.step(optimizer)\n",
    "\n",
    "            # Updates the scale for next iteration\n",
    "            scaler.update()\n",
    "            \n",
    "            scheduler.step(batch)\n",
    "\n",
    "            loss = loss.detach().cpu().numpy()\n",
    "            lr = optimizer.param_groups[0][\"lr\"]\n",
    "            pbar.set_postfix_str(f\"{lr:.6f} train_loss: {loss:.4f}({best_mae:.4f})\")\n",
    "\n",
    "    gc.collect()\n",
    "    # Validation\n",
    "    YPRED = []\n",
    "    model.eval()\n",
    "    with torch.no_grad():\n",
    "        for data in tqdm(valid_loader):\n",
    "            ypred = model(data['x'].to('cuda'))\n",
    "            YPRED.append(ypred.cpu().numpy())\n",
    "    YPRED = np.concatenate(YPRED)[:,0]\n",
    "    VALID['pred'] = YPRED\n",
    "    mae = (VALID['target'] - VALID['pred']).abs().mean()\n",
    "\n",
    "    if mae < best_mae:\n",
    "        best_mae = mae\n",
    "        print(f\"New best: {epoch} {mae}\")\n",
    "        torch.save(model.module.state_dict(), f\"weights/model_resnet34-{FOLD}-{batch_size}-{IMG_SIZE}-v1.pt\")\n",
    "    gc.collect()"
   ]
  },
  {
   "cell_type": "markdown",
   "id": "368a3a38",
   "metadata": {},
   "source": [
    "# Training step 3:  \n",
    "- LR: 5e-5\n",
    "- Image size: 288\n",
    "- epochs: 6\n",
    "- batch size: 512"
   ]
  },
  {
   "cell_type": "code",
   "execution_count": null,
   "id": "d59c72db",
   "metadata": {
    "scrolled": true
   },
   "outputs": [],
   "source": [
    "IMG_SIZE = 224+64\n",
    "\n",
    "# Remove Vertical FLip from training\n",
    "def get_augmentations():\n",
    "    \n",
    "    mean = (0.485, 0.456, 0.406)\n",
    "    std = (0.229, 0.224, 0.225) \n",
    "    \n",
    "    train_augmentations = albu.Compose([\n",
    "        albu.ShiftScaleRotate (shift_limit=0.05, scale_limit=0.05, rotate_limit=5, interpolation=1, border_mode=4, p=0.75),\n",
    "        albu.RandomResizedCrop(IMG_SIZE, IMG_SIZE, scale=(0.90, 1.00), ratio=(0.95, 1.05), p=1.0),\n",
    "        albu.HorizontalFlip(p=0.5),\n",
    "        #albu.VerticalFlip(0.5),\n",
    "        albu.Normalize(always_apply=True),        \n",
    "        ToTensorV2(p=1.0)\n",
    "    ], p=1.0)\n",
    "    \n",
    "    valid_augmentations = albu.Compose([\n",
    "        albu.Resize(IMG_SIZE, IMG_SIZE),\n",
    "        albu.Normalize(always_apply=True),        \n",
    "        ToTensorV2(p=1.0)\n",
    "    ], p=1.0)   \n",
    "    \n",
    "    return train_augmentations, valid_augmentations\n",
    "\n",
    "train_augs, valid_augs = get_augmentations()\n",
    "\n",
    "n_epochs = 6\n",
    "batch_size = 512\n",
    "\n",
    "train_dataset = ImageDataset(train_mode=0, transforms=train_augs)\n",
    "valid_dataset = ImageDataset(train_mode=1, transforms=valid_augs)\n",
    "train_loader = torch.utils.data.DataLoader(train_dataset, batch_size=batch_size, shuffle=True, num_workers=8)\n",
    "valid_loader = torch.utils.data.DataLoader(valid_dataset, batch_size=batch_size, shuffle=False, num_workers=8)\n",
    "\n",
    "optimizer = torch.optim.Adam(model.parameters(), lr=LR/4)\n",
    "scheduler = torch.optim.lr_scheduler.CosineAnnealingWarmRestarts(\n",
    "    optimizer,\n",
    "    T_0 = len(train_loader),\n",
    "    T_mult = 1,\n",
    "    eta_min = 1e-7,\n",
    "    last_epoch= -1,\n",
    ")\n",
    "\n",
    "best_mae = 1.0\n",
    "criterion = nn.L1Loss()\n",
    "scaler = torch.cuda.amp.GradScaler()\n",
    "for epoch in range(n_epochs):\n",
    "    model.train()\n",
    "    with tqdm(train_loader) as pbar:\n",
    "        for batch, data in enumerate(pbar):\n",
    "\n",
    "            optimizer.zero_grad()\n",
    "\n",
    "            # Casts operations to mixed precision\n",
    "            with torch.cuda.amp.autocast():\n",
    "                output = model(data['x'].to('cuda'))\n",
    "                loss = criterion(data['y'].to('cuda'), output)\n",
    "\n",
    "            # Scales the loss, and calls backward()\n",
    "            # to create scaled gradients\n",
    "            scaler.scale(loss).backward()\n",
    "\n",
    "            # Unscales gradients and calls\n",
    "            # or skips optimizer.step()\n",
    "            scaler.step(optimizer)\n",
    "\n",
    "            # Updates the scale for next iteration\n",
    "            scaler.update()\n",
    "            \n",
    "            scheduler.step(batch)\n",
    "\n",
    "            loss = loss.detach().cpu().numpy()\n",
    "            lr = optimizer.param_groups[0][\"lr\"]\n",
    "            pbar.set_postfix_str(f\"{lr:.6f} train_loss: {loss:.4f}({best_mae:.4f})\")\n",
    "\n",
    "    gc.collect()\n",
    "    # Validation\n",
    "    YPRED = []\n",
    "    model.eval()\n",
    "    with torch.no_grad():\n",
    "        for data in tqdm(valid_loader):\n",
    "            ypred = model(data['x'].to('cuda'))\n",
    "            YPRED.append(ypred.cpu().numpy())\n",
    "    YPRED = np.concatenate(YPRED)[:,0]\n",
    "    VALID['pred'] = YPRED\n",
    "    mae = (VALID['target'] - VALID['pred']).abs().mean()\n",
    "\n",
    "    if mae < best_mae:\n",
    "        best_mae = mae\n",
    "        print(f\"New best: {epoch} {mae}\")\n",
    "        torch.save(model.module.state_dict(), f\"weights/model_resnet34-{FOLD}-{batch_size}-{IMG_SIZE}-v1.pt\")\n",
    "    gc.collect()"
   ]
  },
  {
   "cell_type": "markdown",
   "id": "fedd48c2",
   "metadata": {},
   "source": [
    "# Training step 4:  \n",
    "- LR: 2.5e-5\n",
    "- Image size: 352\n",
    "- epochs: 12\n",
    "- batch size: 512"
   ]
  },
  {
   "cell_type": "code",
   "execution_count": null,
   "id": "1b23a52d",
   "metadata": {
    "scrolled": true
   },
   "outputs": [],
   "source": [
    "IMG_SIZE = 224+64+64\n",
    "\n",
    "# Remove shift scale rotate + Vertical flip \n",
    "def get_augmentations():\n",
    "    \n",
    "    mean = (0.485, 0.456, 0.406)\n",
    "    std = (0.229, 0.224, 0.225) \n",
    "    \n",
    "    train_augmentations = albu.Compose([\n",
    "        #albu.ShiftScaleRotate (shift_limit=0.05, scale_limit=0.05, rotate_limit=5, interpolation=1, border_mode=4, p=0.75),\n",
    "        albu.RandomResizedCrop(IMG_SIZE, IMG_SIZE, scale=(0.90, 1.00), ratio=(0.95, 1.05), p=1.0),\n",
    "        albu.HorizontalFlip(p=0.5),\n",
    "        #albu.VerticalFlip(0.5),\n",
    "        albu.Normalize(always_apply=True),        \n",
    "        ToTensorV2(p=1.0)\n",
    "    ], p=1.0)\n",
    "    \n",
    "    valid_augmentations = albu.Compose([\n",
    "        albu.Resize(IMG_SIZE, IMG_SIZE),\n",
    "        albu.Normalize(always_apply=True),        \n",
    "        ToTensorV2(p=1.0)\n",
    "    ], p=1.0)   \n",
    "    \n",
    "    return train_augmentations, valid_augmentations\n",
    "\n",
    "train_augs, valid_augs = get_augmentations()\n",
    "\n",
    "n_epochs = 12\n",
    "batch_size = 512\n",
    "LR = 2e-4\n",
    "\n",
    "train_dataset = ImageDataset(train_mode=0, transforms=train_augs)\n",
    "valid_dataset = ImageDataset(train_mode=1, transforms=valid_augs)\n",
    "train_loader = torch.utils.data.DataLoader(train_dataset, batch_size=batch_size, shuffle=True, num_workers=8)\n",
    "valid_loader = torch.utils.data.DataLoader(valid_dataset, batch_size=batch_size, shuffle=False, num_workers=8)\n",
    "\n",
    "optimizer = torch.optim.Adam(model.parameters(), lr=LR/8)\n",
    "scheduler = torch.optim.lr_scheduler.CosineAnnealingWarmRestarts(\n",
    "    optimizer,\n",
    "    T_0 = len(train_loader),\n",
    "    T_mult = 1,\n",
    "    eta_min = 1e-7,\n",
    "    last_epoch= -1,\n",
    ")\n",
    "\n",
    "best_mae = 1.0\n",
    "criterion = nn.L1Loss()\n",
    "scaler = torch.cuda.amp.GradScaler()\n",
    "for epoch in range(n_epochs):\n",
    "    model.train()\n",
    "    with tqdm(train_loader) as pbar:\n",
    "        for batch, data in enumerate(pbar):\n",
    "\n",
    "            optimizer.zero_grad()\n",
    "\n",
    "            # Casts operations to mixed precision\n",
    "            with torch.cuda.amp.autocast():\n",
    "                output = model(data['x'].to('cuda'))\n",
    "                loss = criterion(data['y'].to('cuda'), output)\n",
    "\n",
    "            # Scales the loss, and calls backward()\n",
    "            # to create scaled gradients\n",
    "            scaler.scale(loss).backward()\n",
    "\n",
    "            # Unscales gradients and calls\n",
    "            # or skips optimizer.step()\n",
    "            scaler.step(optimizer)\n",
    "\n",
    "            # Updates the scale for next iteration\n",
    "            scaler.update()\n",
    "            \n",
    "            scheduler.step(batch)\n",
    "\n",
    "            loss = loss.detach().cpu().numpy()\n",
    "            lr = optimizer.param_groups[0][\"lr\"]\n",
    "            pbar.set_postfix_str(f\"{lr:.6f} train_loss: {loss:.4f}({best_mae:.4f})\")\n",
    "\n",
    "    gc.collect()\n",
    "    # Validation\n",
    "    YPRED = []\n",
    "    model.eval()\n",
    "    with torch.no_grad():\n",
    "        for data in tqdm(valid_loader):\n",
    "            ypred = model(data['x'].to('cuda'))\n",
    "            YPRED.append(ypred.cpu().numpy())\n",
    "    YPRED = np.concatenate(YPRED)[:,0]\n",
    "    VALID['pred'] = YPRED\n",
    "    mae = (VALID['target'] - VALID['pred']).abs().mean()\n",
    "\n",
    "    if mae < best_mae:\n",
    "        best_mae = mae\n",
    "        print(f\"New best: {epoch} {mae}\")\n",
    "        torch.save(model.module.state_dict(), f\"weights/model_resnet34-{FOLD}-{batch_size}-{IMG_SIZE}-v1.pt\")\n",
    "    gc.collect()"
   ]
  },
  {
   "cell_type": "markdown",
   "id": "5a204ead",
   "metadata": {},
   "source": [
    "# Training End"
   ]
  },
  {
   "cell_type": "markdown",
   "id": "43ba3e82",
   "metadata": {},
   "source": [
    "# Reload best epoch weights"
   ]
  },
  {
   "cell_type": "code",
   "execution_count": null,
   "id": "03cf4b65",
   "metadata": {
    "scrolled": true
   },
   "outputs": [],
   "source": [
    "model = Model(model_name='resnet34', pretrained=True).to('cuda')\n",
    "model.load_state_dict(torch.load(f\"weights/model_resnet34-{FOLD}-512-352-v1.pt\"))\n",
    "model = nn.DataParallel(model)\n",
    "model.eval()"
   ]
  },
  {
   "cell_type": "code",
   "execution_count": 46,
   "id": "fcd8f874",
   "metadata": {},
   "outputs": [
    {
     "name": "stdout",
     "output_type": "stream",
     "text": [
      "(143840, 5)\n",
      "(147037, 5)\n",
      "(147432, 5)\n"
     ]
    }
   ],
   "source": [
    "IMG_SIZE = 224+64+64\n",
    "\n",
    "valid_augmentations1 = albu.Compose([\n",
    "    albu.Resize(IMG_SIZE, IMG_SIZE),\n",
    "    albu.Normalize(always_apply=True),        \n",
    "    ToTensorV2(p=1.0)\n",
    "], p=1.0)   \n",
    "\n",
    "batch_size = 512\n",
    "valid_dataset = ImageDataset(train_mode=1, transforms=valid_augmentations1)\n",
    "valid_loader = torch.utils.data.DataLoader(valid_dataset, batch_size=batch_size, shuffle=False, num_workers=8)\n",
    "\n",
    "test1_dataset = ImageDataset(train_mode=2, transforms=valid_augmentations1)\n",
    "test1_loader = torch.utils.data.DataLoader(test1_dataset, batch_size=batch_size, shuffle=False, num_workers=8)\n",
    "\n",
    "test2_dataset = ImageDataset(train_mode=3, transforms=valid_augmentations1)\n",
    "test2_loader = torch.utils.data.DataLoader(test2_dataset, batch_size=batch_size, shuffle=False, num_workers=8)"
   ]
  },
  {
   "cell_type": "code",
   "execution_count": 47,
   "id": "ef02ca75",
   "metadata": {},
   "outputs": [
    {
     "name": "stderr",
     "output_type": "stream",
     "text": [
      "100%|██████████| 1124/1124 [05:08<00:00,  3.64it/s]\n"
     ]
    },
    {
     "data": {
      "text/plain": [
       "(143840,)"
      ]
     },
     "execution_count": 47,
     "metadata": {},
     "output_type": "execute_result"
    }
   ],
   "source": [
    "YPRED = []\n",
    "with torch.no_grad():\n",
    "    for data in tqdm(valid_loader):\n",
    "        ypred = model(data['x'].to('cuda'))\n",
    "        YPRED.append(ypred.cpu().numpy())\n",
    "yvalid = np.concatenate(YPRED)[:,0]\n",
    "yvalid.shape"
   ]
  },
  {
   "cell_type": "code",
   "execution_count": 48,
   "id": "8c83a2d7",
   "metadata": {},
   "outputs": [
    {
     "data": {
      "text/plain": [
       "0.09870176142906208"
      ]
     },
     "execution_count": 48,
     "metadata": {},
     "output_type": "execute_result"
    }
   ],
   "source": [
    "VALID['prediction'] = yvalid\n",
    "(VALID['target'] - VALID['prediction']).abs().mean()"
   ]
  },
  {
   "cell_type": "code",
   "execution_count": 49,
   "id": "9839d83f",
   "metadata": {},
   "outputs": [
    {
     "name": "stderr",
     "output_type": "stream",
     "text": [
      "100%|██████████| 1149/1149 [05:13<00:00,  3.67it/s]\n"
     ]
    },
    {
     "data": {
      "text/plain": [
       "(147037,)"
      ]
     },
     "execution_count": 49,
     "metadata": {},
     "output_type": "execute_result"
    }
   ],
   "source": [
    "YPRED = []\n",
    "with torch.no_grad():\n",
    "    for data in tqdm(test1_loader):\n",
    "        ypred = model(data['x'].to('cuda'))\n",
    "        YPRED.append(ypred.cpu().numpy())\n",
    "ytest1 = np.concatenate(YPRED)[:,0]\n",
    "ytest1.shape"
   ]
  },
  {
   "cell_type": "code",
   "execution_count": 50,
   "id": "71b0b55e",
   "metadata": {},
   "outputs": [
    {
     "name": "stderr",
     "output_type": "stream",
     "text": [
      "100%|██████████| 1152/1152 [05:12<00:00,  3.69it/s]\n"
     ]
    },
    {
     "data": {
      "text/plain": [
       "(147432,)"
      ]
     },
     "execution_count": 50,
     "metadata": {},
     "output_type": "execute_result"
    }
   ],
   "source": [
    "YPRED = []\n",
    "with torch.no_grad():\n",
    "    for data in tqdm(test2_loader):\n",
    "        ypred = model(data['x'].to('cuda'))\n",
    "        YPRED.append(ypred.cpu().numpy())\n",
    "ytest2 = np.concatenate(YPRED)[:,0]\n",
    "ytest2.shape"
   ]
  },
  {
   "cell_type": "code",
   "execution_count": 61,
   "id": "d79082e4",
   "metadata": {},
   "outputs": [
    {
     "data": {
      "text/plain": [
       "((143840, 6), (147037, 6), (147432, 6))"
      ]
     },
     "execution_count": 61,
     "metadata": {},
     "output_type": "execute_result"
    }
   ],
   "source": [
    "train = pd.read_parquet('train.parquet')\n",
    "train['path'] = '../images/' + train['id'].map(str) + '.png'\n",
    "\n",
    "splits = torch.load('../new_split_dict.pt')\n",
    "train['fold'] = 0\n",
    "train.loc[train['id'].isin(splits[f'valid_{FOLD}']), 'fold'] = 1\n",
    "train.loc[train['id'].isin(testdev_idx), 'fold'] = 2\n",
    "train.loc[train['id'].isin(testchallenge_idx), 'fold'] = 3\n",
    "\n",
    "VALID = train.loc[train['fold']==1].reset_index(drop=True)\n",
    "TEST1 = train.loc[train['fold']==2].reset_index(drop=True)\n",
    "TEST2 = train.loc[train['fold']==3].reset_index(drop=True)\n",
    "\n",
    "VALID['prediction'] = yvalid\n",
    "TEST1['prediction'] = ytest1\n",
    "TEST2['prediction'] = ytest2\n",
    "\n",
    "VALID.shape, TEST1.shape, TEST2.shape"
   ]
  },
  {
   "cell_type": "markdown",
   "id": "3713c60b",
   "metadata": {},
   "source": [
    "# Validation MAE score"
   ]
  },
  {
   "cell_type": "code",
   "execution_count": 62,
   "id": "3dcba838",
   "metadata": {},
   "outputs": [
    {
     "data": {
      "text/plain": [
       "0.09870176142906208"
      ]
     },
     "execution_count": 62,
     "metadata": {},
     "output_type": "execute_result"
    }
   ],
   "source": [
    "(VALID['target'] - VALID['prediction']).abs().mean()"
   ]
  },
  {
   "cell_type": "code",
   "execution_count": 63,
   "id": "33c92870",
   "metadata": {},
   "outputs": [],
   "source": [
    "!mkdir predictions\n",
    "!mkdir predictions/fold0\n",
    "!mkdir predictions/fold1\n",
    "!mkdir predictions/fold2\n",
    "!mkdir predictions/fold3\n",
    "\n",
    "np.save(f'predictions/fold{FOLD}/valid.npy', VALID['prediction'].values)\n",
    "np.save(f'predictions/fold{FOLD}/devchallenge.npy', TEST1['prediction'].values)\n",
    "np.save(f'predictions/fold{FOLD}/testchallenge.npy', TEST2['prediction'].values)"
   ]
  },
  {
   "cell_type": "markdown",
   "id": "54ccc444",
   "metadata": {},
   "source": [
    "# Done!"
   ]
  },
  {
   "cell_type": "code",
   "execution_count": null,
   "id": "2a30cba1",
   "metadata": {},
   "outputs": [],
   "source": []
  }
 ],
 "metadata": {
  "kernelspec": {
   "display_name": "Python 3",
   "language": "python",
   "name": "python3"
  },
  "language_info": {
   "codemirror_mode": {
    "name": "ipython",
    "version": 3
   },
   "file_extension": ".py",
   "mimetype": "text/x-python",
   "name": "python",
   "nbconvert_exporter": "python",
   "pygments_lexer": "ipython3",
   "version": "3.7.11"
  }
 },
 "nbformat": 4,
 "nbformat_minor": 5
}
